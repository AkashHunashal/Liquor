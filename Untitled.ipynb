{
 "cells": [
  {
   "cell_type": "code",
   "execution_count": 1,
   "id": "662c0bf9-618e-40a9-99ec-c0932456583b",
   "metadata": {},
   "outputs": [],
   "source": [
    "import pandas as pd\n",
    "import numpy as np\n",
    "import matplotlib.pyplot as plt\n",
    "import seaborn as sns\n",
    "%matplotlib inline\n",
    "import warnings\n",
    "warnings.filterwarnings('ignore')\n",
    "from datetime import datetime \n",
    "from sklearn.preprocessing import RobustScaler,MinMaxScaler,StandardScaler\n",
    "import scipy.stats as stat\n",
    "from sklearn.model_selection import train_test_split\n",
    "from sklearn.model_selection import RandomizedSearchCV,cross_val_score\n",
    "import xgboost as xgb\n",
    "import pickle"
   ]
  },
  {
   "cell_type": "code",
   "execution_count": 2,
   "id": "2766bfc8-5ef9-413c-bf20-9c90454a0121",
   "metadata": {},
   "outputs": [],
   "source": [
    "def readdata():\n",
    "    data=pd.read_csv('liquor.csv')\n",
    "    data.drop('convenience_store',axis=1,inplace=True)\n",
    "    data.dropna(axis=0,inplace=True)\n",
    "    data.drop(data[(data['total']>10000)].index,axis=0,inplace=True)\n",
    "    data=data.reset_index()\n",
    "    return data"
   ]
  },
  {
   "cell_type": "code",
   "execution_count": 48,
   "id": "affce67c-2fe8-4384-a989-3d99b9f9bcab",
   "metadata": {},
   "outputs": [],
   "source": [
    "robust=RobustScaler()\n",
    "minmax=MinMaxScaler()\n",
    "standard=StandardScaler()\n",
    "def preprocessing(data):\n",
    "    data['date']=pd.to_datetime(data['date'])\n",
    "    data['weekday']=data['date'].dt.day_name()\n",
    "    data['day']=data['date'].dt.day\n",
    "    data['month']=data['date'].dt.month\n",
    "    data['year']=data['date'].dt.year\n",
    "    data.drop('date',axis=1,inplace=True)\n",
    "    global unique_categories\n",
    "    unique_categories=[]\n",
    "    for column in data.iloc[:,-3:]:   \n",
    "        unique_categories.append({column:sorted(data[column].unique())})\n",
    "    numerical_features=data.select_dtypes(include=[int,float]).columns\n",
    "    categorical_features=data.select_dtypes(exclude=[int,float]).columns\n",
    "    data2=data.copy()\n",
    "    global categorical_encoded\n",
    "    categorical_encoded=[]\n",
    "    for categories in categorical_features:\n",
    "        category_dict=data2.groupby(categories)['total'].mean().sort_values(ascending=False).to_dict()\n",
    "        data2[categories+'_Enc']=data2[categories].map(category_dict)\n",
    "        category_encoded={categories:category_dict}\n",
    "        categorical_encoded.append(category_encoded)\n",
    "    numerical_features=numerical_features.drop('total')\n",
    "    threshold=0.7\n",
    "    corr_list=[]\n",
    "    for column1 in numerical_features:\n",
    "        for column2 in numerical_features:\n",
    "            if column1!=column2:\n",
    "                if (abs(round(data2[[column1,column2]].corr(),2))>=threshold).iloc[1:,:1].values:\n",
    "                    flag=1\n",
    "                    if flag==1:\n",
    "                        numerical_features=numerical_features.drop(column1)\n",
    "                        corr_list.append(column1) \n",
    "    data2.drop(corr_list,inplace=True,axis=1)\n",
    "    data2.drop(labels=categorical_features,axis=1,inplace=True)\n",
    "    for categories in data2.iloc[:,:8] :\n",
    "        category_dict=data2.groupby(categories)['total'].mean().sort_values(ascending=False).to_dict()\n",
    "        data2[categories+'_Enc']=data2[categories].map(category_dict)\n",
    "        category_encoded={categories:category_dict}\n",
    "        categorical_encoded.append(category_encoded)\n",
    "    data2.drop(data2.columns[:8],axis=1,inplace=True)\n",
    "    for categories in data2.iloc[:,1:4] :\n",
    "        category_dict=data2[categories].value_counts().sort_values(ascending=False).to_dict()\n",
    "        data2[categories+'_Enc']=data2[categories].map(category_dict)\n",
    "        category_encoded={categories:category_dict}\n",
    "        categorical_encoded.append(category_encoded)\n",
    "    data2.drop(data2.columns[1:4],axis=1,inplace=True)\n",
    "    return data2"
   ]
  },
  {
   "cell_type": "code",
   "execution_count": 4,
   "id": "44c770bd-4307-44d8-9f5e-0c3b0c7e903c",
   "metadata": {},
   "outputs": [],
   "source": [
    "def modelbuild(data2):\n",
    "    X=data2.drop('total',axis=1)\n",
    "    y=data2[['total']]\n",
    "    corr_set=set()\n",
    "    threshold=0.7\n",
    "    for categories in X.columns:\n",
    "        for i in X.columns:\n",
    "            if categories!=i:\n",
    "                if abs(round(X[[categories,i]].corr(),2)>threshold).values[0][1]:\n",
    "                    corr_set.add(categories)\n",
    "    X.drop(corr_set,axis=1,inplace=True)\n",
    "    for column in X.columns:\n",
    "        X[column]=np.log1p(X[[column]])\n",
    "    X_train, X_test, y_train, y_test = train_test_split(X, y, test_size=0.3, random_state=42)\n",
    "    return X_train, X_test, y_train, y_test"
   ]
  },
  {
   "cell_type": "code",
   "execution_count": 5,
   "id": "1cf1baa3-8eb2-4c55-8459-a6e36824cbb8",
   "metadata": {},
   "outputs": [],
   "source": [
    "def modelprediction(X_test):\n",
    "    xgboost_model=pickle.load(open('XGBoost_regression_model.pkl','rb'))\n",
    "    xgboost_pred=xgboost_model.predict(X_test)\n",
    "    return xgboost_pred"
   ]
  },
  {
   "cell_type": "code",
   "execution_count": 6,
   "id": "3ea76bb3-4ac2-42d1-8f57-0e259e6f3d34",
   "metadata": {},
   "outputs": [],
   "source": [
    "def trainmodel():\n",
    "    data=readdata()\n",
    "    data=preprocessing(data)\n",
    "    X_train, X_test, y_train, y_test=modelbuild(data)\n",
    "    prediction=modelprediction(X_test)\n",
    "    return prediction"
   ]
  },
  {
   "cell_type": "code",
   "execution_count": 7,
   "id": "fd604287-2107-4976-8ba3-d962c65003ea",
   "metadata": {},
   "outputs": [],
   "source": [
    "frame={\n",
    " 'weekday': 'Tuesday',\n",
    " 'liter_size': 1750,\n",
    " 'bottle_qty': 6,\n",
    " 'day': 4,\n",
    " 'month': 3,\n",
    " 'year': 2014}"
   ]
  },
  {
   "cell_type": "code",
   "execution_count": 49,
   "id": "b16fd7ac-8fa9-4aed-ba15-1d35d96e7904",
   "metadata": {},
   "outputs": [],
   "source": [
    "def testmodel(data):\n",
    "    trainmodel()\n",
    "    for column in data.columns:\n",
    "        for category in categorical_encoded:\n",
    "            for item,values in category.items():\n",
    "                if item==column:\n",
    "                    data[column+'_Enc']=data[column].map(values)\n",
    "    data.drop(data.columns[0:6],axis=1,inplace=True)\n",
    "    for column in data.columns:\n",
    "        data[column]=np.log1p(data[[column]])\n",
    "    xgboost_model=pickle.load(open('XGBoost_regression_model.pkl','rb'))\n",
    "    xgboost_pred=xgboost_model.predict(data)\n",
    "    return xgboost_pred"
   ]
  },
  {
   "cell_type": "code",
   "execution_count": 45,
   "id": "cca161cd-a8fa-4f4e-a96b-9bd607afef40",
   "metadata": {},
   "outputs": [
    {
     "data": {
      "text/plain": [
       "array([86.90413], dtype=float32)"
      ]
     },
     "execution_count": 54,
     "metadata": {},
     "output_type": "execute_result"
    }
   ],
   "source": [
    "testframe=pd.DataFrame([frame])\n",
    "dd=testmodel(testframe)\n",
    "dd"
   ]
  },
  {
   "cell_type": "code",
   "execution_count": null,
   "id": "9ab96222-0fa4-4da0-8e25-54660e065def",
   "metadata": {},
   "outputs": [],
   "source": [
    "data=readdata()\n",
    "data['date']=pd.to_datetime(data['date'])\n",
    "data['weekday']=data['date'].dt.day_name()\n",
    "data['day']=data['date'].dt.day\n",
    "data['month']=data['date'].dt.month\n",
    "data['year']=data['date'].dt.year"
   ]
  },
  {
   "cell_type": "code",
   "execution_count": 57,
   "id": "b1a8c716-1a03-4e81-87d6-65ab08a98dae",
   "metadata": {},
   "outputs": [],
   "source": [
    "day = []\n",
    "month = []\n",
    "year = []\n",
    "for item in unique_categories:\n",
    "    for key,value in item.items():\n",
    "        if key=='day':\n",
    "            day.extend(value)\n",
    "        elif key=='month':\n",
    "            month.extend(value)\n",
    "        elif key=='year':\n",
    "            year.extend(value)"
   ]
  },
  {
   "cell_type": "code",
   "execution_count": 58,
   "id": "fd9fc9c8-e51b-43b0-8201-74425f12904d",
   "metadata": {},
   "outputs": [
    {
     "data": {
      "text/plain": [
       "[2014, 2015]"
      ]
     },
     "execution_count": 58,
     "metadata": {},
     "output_type": "execute_result"
    }
   ],
   "source": [
    "year"
   ]
  },
  {
   "cell_type": "code",
   "execution_count": null,
   "id": "74deb2b2-0b4f-499a-97c1-e47bbabdea11",
   "metadata": {},
   "outputs": [
    {
     "name": "stdout",
     "output_type": "stream",
     "text": [
      "{'Wednesday': 147.3686979843953, 'Friday': 140.17900826446282, 'Thursday': 137.97884057971015, 'Saturday': 133.35814814814816, 'Monday': 131.43721038251365, 'Tuesday': 128.50767523364487}\n"
     ]
    }
   ],
   "source": [
    "for item in categorical_encoded:\n",
    "    for key,value in item.keys():\n",
    "        if key=='weekday':\n",
    "            for \n",
    "            print(value)"
   ]
  },
  {
   "cell_type": "code",
   "execution_count": 17,
   "id": "f4acb2d4-205a-46d1-8359-89ed5234fd44",
   "metadata": {},
   "outputs": [],
   "source": []
  },
  {
   "cell_type": "code",
   "execution_count": null,
   "id": "952303ee-9bb9-4256-9c19-bc85980b667d",
   "metadata": {},
   "outputs": [],
   "source": []
  },
  {
   "cell_type": "code",
   "execution_count": null,
   "id": "94960e39-8ff7-4657-9b24-051e9df34b6e",
   "metadata": {},
   "outputs": [],
   "source": [
    "categorical_encoded"
   ]
  },
  {
   "cell_type": "code",
   "execution_count": null,
   "id": "b22aaed6-1484-45f8-bbaf-29bcd6518056",
   "metadata": {},
   "outputs": [],
   "source": []
  },
  {
   "cell_type": "code",
   "execution_count": null,
   "id": "330a6fa7-d451-42d2-a2cf-0114793fe4e3",
   "metadata": {},
   "outputs": [],
   "source": []
  },
  {
   "cell_type": "code",
   "execution_count": null,
   "id": "229e478c-0263-4907-8d96-5a8c4ffa6a20",
   "metadata": {},
   "outputs": [],
   "source": []
  },
  {
   "cell_type": "code",
   "execution_count": null,
   "id": "0e57001e-55e1-4eaf-ab97-77ba05e68910",
   "metadata": {},
   "outputs": [],
   "source": []
  },
  {
   "cell_type": "code",
   "execution_count": null,
   "id": "d73163af-794f-408a-b63b-ce7a766523be",
   "metadata": {},
   "outputs": [],
   "source": []
  },
  {
   "cell_type": "code",
   "execution_count": null,
   "id": "647aebeb-456b-4fd0-b3a4-65db4ce37d44",
   "metadata": {},
   "outputs": [],
   "source": []
  },
  {
   "cell_type": "code",
   "execution_count": null,
   "id": "f47feeda-00a9-4877-a4af-23930b0f409d",
   "metadata": {},
   "outputs": [],
   "source": []
  },
  {
   "cell_type": "code",
   "execution_count": null,
   "id": "c30336d3-d2d4-4076-910b-76b230cf5fd8",
   "metadata": {},
   "outputs": [],
   "source": []
  },
  {
   "cell_type": "code",
   "execution_count": null,
   "id": "58ff9347-6e54-4aa3-91c2-26a719b6c4ec",
   "metadata": {},
   "outputs": [],
   "source": []
  },
  {
   "cell_type": "code",
   "execution_count": null,
   "id": "366f17f0-887b-4395-83b1-762008a4dcab",
   "metadata": {},
   "outputs": [],
   "source": []
  },
  {
   "cell_type": "code",
   "execution_count": null,
   "id": "fcec285c-724a-4276-9687-65845fe03b00",
   "metadata": {},
   "outputs": [],
   "source": []
  },
  {
   "cell_type": "code",
   "execution_count": null,
   "id": "0959f549-2573-4815-97f5-4cac2ae9f1ed",
   "metadata": {},
   "outputs": [],
   "source": []
  },
  {
   "cell_type": "code",
   "execution_count": null,
   "id": "dbc55871-fbb2-42d1-a0be-8dd6adb73383",
   "metadata": {},
   "outputs": [],
   "source": []
  },
  {
   "cell_type": "code",
   "execution_count": null,
   "id": "d833f0d2-3b6c-4528-bb47-df034546fcdd",
   "metadata": {},
   "outputs": [],
   "source": []
  },
  {
   "cell_type": "code",
   "execution_count": null,
   "id": "f7045e61-dc1c-4b9b-85b8-61b2fb08bb6f",
   "metadata": {},
   "outputs": [],
   "source": []
  },
  {
   "cell_type": "code",
   "execution_count": null,
   "id": "9c8c52a1-6f6a-42f2-a9de-f2081e8d0fc7",
   "metadata": {},
   "outputs": [],
   "source": []
  }
 ],
 "metadata": {
  "kernelspec": {
   "display_name": "Python 3 (ipykernel)",
   "language": "python",
   "name": "python3"
  },
  "language_info": {
   "codemirror_mode": {
    "name": "ipython",
    "version": 3
   },
   "file_extension": ".py",
   "mimetype": "text/x-python",
   "name": "python",
   "nbconvert_exporter": "python",
   "pygments_lexer": "ipython3",
   "version": "3.10.4"
  }
 },
 "nbformat": 4,
 "nbformat_minor": 5
}
